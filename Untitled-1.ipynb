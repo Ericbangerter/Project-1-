{
 "cells": [
  {
   "cell_type": "code",
   "execution_count": 1,
   "metadata": {},
   "outputs": [
    {
     "ename": "ModuleNotFoundError",
     "evalue": "No module named 'qrcode'",
     "output_type": "error",
     "traceback": [
      "\u001b[0;31m---------------------------------------------------------------------------\u001b[0m",
      "\u001b[0;31mModuleNotFoundError\u001b[0m                       Traceback (most recent call last)",
      "\u001b[1;32m/Ericbangerter/Project-1-/Untitled-1.ipynb Cell 1\u001b[0m line \u001b[0;36m1\n\u001b[0;32m----> <a href='vscode-notebook-cell://github/Ericbangerter/Project-1-/Untitled-1.ipynb#W0sdnNjb2RlLXZmcw%3D%3D?line=0'>1</a>\u001b[0m \u001b[39mimport\u001b[39;00m \u001b[39mqrcode\u001b[39;00m\n\u001b[1;32m      <a href='vscode-notebook-cell://github/Ericbangerter/Project-1-/Untitled-1.ipynb#W0sdnNjb2RlLXZmcw%3D%3D?line=2'>3</a>\u001b[0m \u001b[39m# Create an instance of the QRCode class\u001b[39;00m\n\u001b[1;32m      <a href='vscode-notebook-cell://github/Ericbangerter/Project-1-/Untitled-1.ipynb#W0sdnNjb2RlLXZmcw%3D%3D?line=3'>4</a>\u001b[0m qr \u001b[39m=\u001b[39m qrcode\u001b[39m.\u001b[39mQRCode(\n\u001b[1;32m      <a href='vscode-notebook-cell://github/Ericbangerter/Project-1-/Untitled-1.ipynb#W0sdnNjb2RlLXZmcw%3D%3D?line=4'>5</a>\u001b[0m     version\u001b[39m=\u001b[39m\u001b[39m1\u001b[39m,\n\u001b[1;32m      <a href='vscode-notebook-cell://github/Ericbangerter/Project-1-/Untitled-1.ipynb#W0sdnNjb2RlLXZmcw%3D%3D?line=5'>6</a>\u001b[0m     error_correction\u001b[39m=\u001b[39mqrcode\u001b[39m.\u001b[39mconstants\u001b[39m.\u001b[39mERROR_CORRECT_L,\n\u001b[1;32m      <a href='vscode-notebook-cell://github/Ericbangerter/Project-1-/Untitled-1.ipynb#W0sdnNjb2RlLXZmcw%3D%3D?line=6'>7</a>\u001b[0m     box_size\u001b[39m=\u001b[39m\u001b[39m10\u001b[39m,\n\u001b[1;32m      <a href='vscode-notebook-cell://github/Ericbangerter/Project-1-/Untitled-1.ipynb#W0sdnNjb2RlLXZmcw%3D%3D?line=7'>8</a>\u001b[0m     border\u001b[39m=\u001b[39m\u001b[39m4\u001b[39m,\n\u001b[1;32m      <a href='vscode-notebook-cell://github/Ericbangerter/Project-1-/Untitled-1.ipynb#W0sdnNjb2RlLXZmcw%3D%3D?line=8'>9</a>\u001b[0m )\n",
      "\u001b[0;31mModuleNotFoundError\u001b[0m: No module named 'qrcode'"
     ]
    }
   ],
   "source": [
    "import qrcode\n",
    "\n",
    "# Create an instance of the QRCode class\n",
    "qr = qrcode.QRCode(\n",
    "    version=1,\n",
    "    error_correction=qrcode.constants.ERROR_CORRECT_L,\n",
    "    box_size=10,\n",
    "    border=4,\n",
    ")\n",
    "\n",
    "# Add data to the QR code\n",
    "data = \"Hello, QR Code!\"\n",
    "qr.add_data(data)\n",
    "qr.make(fit=True)\n",
    "\n",
    "# Create an image from the QR code\n",
    "img = qr.make_image(fill_color=\"black\", back_color=\"white\")\n",
    "\n",
    "# Save or display the image\n",
    "img.save(\"my_qrcode.png\")\n",
    "img.show()"
   ]
  },
  {
   "cell_type": "code",
   "execution_count": null,
   "metadata": {},
   "outputs": [],
   "source": []
  },
  {
   "cell_type": "markdown",
   "metadata": {},
   "source": []
  }
 ],
 "metadata": {
  "kernelspec": {
   "display_name": "Python 3",
   "language": "python",
   "name": "python3"
  },
  "language_info": {
   "codemirror_mode": {
    "name": "ipython",
    "version": 3
   },
   "file_extension": ".py",
   "mimetype": "text/x-python",
   "name": "python",
   "nbconvert_exporter": "python",
   "pygments_lexer": "ipython3",
   "version": "3.9.6"
  }
 },
 "nbformat": 4,
 "nbformat_minor": 2
}
