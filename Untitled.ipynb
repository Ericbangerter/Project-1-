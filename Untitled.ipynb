{
 "cells": [
  {
   "cell_type": "code",
   "execution_count": 14,
   "id": "ad6ae18c",
   "metadata": {},
   "outputs": [
    {
     "name": "stdout",
     "output_type": "stream",
     "text": [
      "Please enter a positive number: 10\n",
      "1\n",
      "2\n",
      "3\n",
      "4\n",
      "5\n",
      "6\n"
     ]
    }
   ],
   "source": [
    "n = int(float(input(\"Please enter a positive number: \")))\n",
    "s = 0 \n",
    "\n",
    "for i in range(0, n+1):\n",
    "    if i % 2 ==0:\n",
    "        s += 1\n",
    "        print (s)\n",
    "\n",
    "#The variable s contains the sum of all even positive integers between 0 (included) and the entered number (included)\n",
    "#The program will not raise an error if you insert a negative number or a float number"
   ]
  },
  {
   "cell_type": "code",
   "execution_count": 21,
   "id": "935cac7e",
   "metadata": {},
   "outputs": [
    {
     "name": "stdout",
     "output_type": "stream",
     "text": [
      "0123456789\n"
     ]
    }
   ],
   "source": [
    "x = ''\n",
    "for y in range(10):\n",
    "    x = x + str(y)\n",
    "\n",
    "print (x)\n",
    "\n",
    "#The content of x will be: 0123456789"
   ]
  },
  {
   "cell_type": "code",
   "execution_count": 24,
   "id": "06233a6e",
   "metadata": {},
   "outputs": [
    {
     "name": "stdout",
     "output_type": "stream",
     "text": [
      "2\n",
      "4\n",
      "6\n",
      "8\n"
     ]
    }
   ],
   "source": [
    "for x in range (2,10,2):\n",
    "    print (x)\n",
    "    \n",
    "#This code produces 4 iterations"
   ]
  },
  {
   "cell_type": "code",
   "execution_count": 12,
   "id": "d20bdb3c",
   "metadata": {},
   "outputs": [
    {
     "name": "stdout",
     "output_type": "stream",
     "text": [
      "1\n",
      "1\n",
      "1\n"
     ]
    }
   ],
   "source": [
    "def ds (number):\n",
    "    digit_sum = 0\n",
    "    \n",
    "    if number >= 0:\n",
    "        for digit in str(number):\n",
    "            digit_sum += int(digit)\n",
    "            print (digit_sum)\n",
    "    \n",
    "    else: \n",
    "        digit_sum = \"You provided a negative number. This function reuquires positive integers\"\n",
    "    \n",
    "    return digit_sum\n",
    "\n",
    "\n",
    "print (ds(10))\n",
    "#The function returns the digit sum of a provided argument, if the argument has the value 0 \n",
    "#"
   ]
  },
  {
   "cell_type": "code",
   "execution_count": 3,
   "id": "d9c054ee",
   "metadata": {},
   "outputs": [
    {
     "name": "stdout",
     "output_type": "stream",
     "text": [
      "You\n"
     ]
    }
   ],
   "source": [
    "def ds (number):\n",
    "    digit_sum = 0 \n",
    "    \n",
    "    if number >= 0:\n",
    "        for digit in str(number):\n",
    "            digit_sum += int(digit)\n",
    "    else: \n",
    "        digit_sum = \"You\"\n",
    "        \n",
    "    return (digit_sum)\n",
    "    \n",
    "print (ds(-4))"
   ]
  },
  {
   "cell_type": "code",
   "execution_count": 4,
   "id": "308f541a",
   "metadata": {},
   "outputs": [
    {
     "name": "stdout",
     "output_type": "stream",
     "text": [
      "1\n",
      "3\n",
      "5\n",
      "7\n",
      "9\n",
      "11\n"
     ]
    }
   ],
   "source": [
    "for number in range (1,12,2):\n",
    "    print (number)\n"
   ]
  },
  {
   "cell_type": "code",
   "execution_count": 7,
   "id": "0f9dccaa",
   "metadata": {},
   "outputs": [
    {
     "name": "stdout",
     "output_type": "stream",
     "text": [
      "0123456789\n"
     ]
    }
   ],
   "source": [
    "x = \"\"\n",
    "\n",
    "for y in range (10):\n",
    "    x = x + str(y)\n",
    "\n",
    "\n",
    "print (x)"
   ]
  },
  {
   "cell_type": "code",
   "execution_count": 10,
   "id": "d18a4d3c",
   "metadata": {},
   "outputs": [
    {
     "name": "stdout",
     "output_type": "stream",
     "text": [
      "Please enter-4\n"
     ]
    }
   ],
   "source": [
    "n = int(float(input(\"Please enter\")))\n",
    "s = 0\n",
    "\n",
    "for i in range (0, n+1):\n",
    "    if i % 2 ==0:\n",
    "        i += i\n",
    "       \n",
    "\n",
    "    print (i)"
   ]
  },
  {
   "cell_type": "code",
   "execution_count": 11,
   "id": "d930dfa5",
   "metadata": {},
   "outputs": [
    {
     "name": "stdout",
     "output_type": "stream",
     "text": [
      "[8, 7, 6, 5, 4, 3, 2]\n"
     ]
    }
   ],
   "source": [
    "def get(elements):\n",
    "    to_return = []\n",
    "    for element in elements:\n",
    "        if isinstance(element, int):\n",
    "            to_return += [element]\n",
    "    return to_return[::-1]\n",
    "\n",
    "print (get([1.23,3.4,2,3,4,5,6,7,8]))\n"
   ]
  },
  {
   "cell_type": "code",
   "execution_count": 22,
   "id": "65a39e10",
   "metadata": {},
   "outputs": [
    {
     "ename": "SyntaxError",
     "evalue": "positional argument follows keyword argument (2353162944.py, line 4)",
     "output_type": "error",
     "traceback": [
      "\u001b[0;36m  Cell \u001b[0;32mIn[22], line 4\u001b[0;36m\u001b[0m\n\u001b[0;31m    print(blueprint(end=10, text=\"sum\", start=0, True))\u001b[0m\n\u001b[0m                                                     ^\u001b[0m\n\u001b[0;31mSyntaxError\u001b[0m\u001b[0;31m:\u001b[0m positional argument follows keyword argument\n"
     ]
    }
   ],
   "source": [
    "def blueprint (text=\"sum\", start=0, end=10):\n",
    "    print (end, text, start)\n",
    "    \n",
    "print(blueprint(end=10, text=\"sum\", start=0, True))"
   ]
  },
  {
   "cell_type": "code",
   "execution_count": null,
   "id": "40fc96a5",
   "metadata": {},
   "outputs": [],
   "source": [
    "b = 2,(3,4,\"2\"),1\n",
    "c =(2,(3,4,\"2\"),1), (3,4,\"2\"), 2,2,(3,4,\"2\"),1\n",
    "\n",
    "d =\n",
    "\n"
   ]
  },
  {
   "cell_type": "code",
   "execution_count": 25,
   "id": "d291a44c",
   "metadata": {},
   "outputs": [
    {
     "name": "stdout",
     "output_type": "stream",
     "text": [
      "[1, 2, (3, 4, '2'), 5]\n",
      "5\n",
      "(5, (4, 7))\n",
      "7\n"
     ]
    }
   ],
   "source": [
    "a = [1,2,(3,4,\"2\"),5]\n",
    "print (a)\n",
    "b = a[1] + a[2][0]\n",
    "print (b)\n",
    "c = (b,(a[2][1],b + 2))\n",
    "print (c)\n",
    "d = c[1][1]\n",
    "\n",
    "print (d)\n",
    "\n"
   ]
  },
  {
   "cell_type": "code",
   "execution_count": 26,
   "id": "78696599",
   "metadata": {},
   "outputs": [
    {
     "name": "stdout",
     "output_type": "stream",
     "text": [
      "3\n"
     ]
    }
   ],
   "source": [
    "a = [1,2,(3,4,\"2\"),5]\n",
    "z = a[2][0]\n",
    "print (z)"
   ]
  },
  {
   "cell_type": "code",
   "execution_count": 28,
   "id": "4962afa4",
   "metadata": {},
   "outputs": [
    {
     "ename": "TypeError",
     "evalue": "sum_double_numbers() missing 2 required positional arguments: 'start' and 'end'",
     "output_type": "error",
     "traceback": [
      "\u001b[0;31m---------------------------------------------------------------------------\u001b[0m",
      "\u001b[0;31mTypeError\u001b[0m                                 Traceback (most recent call last)",
      "Cell \u001b[0;32mIn[28], line 7\u001b[0m\n\u001b[1;32m      4\u001b[0m         r\u001b[38;5;241m+\u001b[39m\u001b[38;5;241m=\u001b[39m i\u001b[38;5;241m*\u001b[39m\u001b[38;5;241m2\u001b[39m\n\u001b[1;32m      5\u001b[0m     \u001b[38;5;28;01mreturn\u001b[39;00m (r)\n\u001b[0;32m----> 7\u001b[0m \u001b[38;5;28mprint\u001b[39m (sum_double_numbers())\n",
      "\u001b[0;31mTypeError\u001b[0m: sum_double_numbers() missing 2 required positional arguments: 'start' and 'end'"
     ]
    }
   ],
   "source": [
    "def sum_double_numbers (start, end, step=2):\n",
    "    r = 0\n",
    "    for i in range (start, end, step):\n",
    "        r+= i*2\n",
    "    return (r)\n",
    "\n",
    "print (sum_double_numbers())"
   ]
  },
  {
   "cell_type": "code",
   "execution_count": 29,
   "id": "46ab9ee5",
   "metadata": {},
   "outputs": [],
   "source": [
    "t1 = (2,3,[4,3,\"Test\"])"
   ]
  },
  {
   "cell_type": "code",
   "execution_count": 30,
   "id": "75240a84",
   "metadata": {},
   "outputs": [],
   "source": [
    "t1[2][2]=\"Hallo\""
   ]
  },
  {
   "cell_type": "code",
   "execution_count": 31,
   "id": "46316ec8",
   "metadata": {},
   "outputs": [
    {
     "name": "stdout",
     "output_type": "stream",
     "text": [
      "(2, 3, [4, 3, 'Hallo'])\n"
     ]
    }
   ],
   "source": [
    "print(t1)"
   ]
  },
  {
   "cell_type": "code",
   "execution_count": 32,
   "id": "d1ccef11",
   "metadata": {},
   "outputs": [
    {
     "data": {
      "text/plain": [
       "tuple"
      ]
     },
     "execution_count": 32,
     "metadata": {},
     "output_type": "execute_result"
    }
   ],
   "source": [
    "type(t1)"
   ]
  },
  {
   "cell_type": "code",
   "execution_count": null,
   "id": "28d8b0d6",
   "metadata": {},
   "outputs": [],
   "source": [
    "def get (elements):\n",
    "    to_return = []\n",
    "    for element in elements: \n",
    "        if isinstance(elements, int):\n",
    "            to_return += [element]\n",
    "    return to_return [::-1]\n",
    "\n"
   ]
  },
  {
   "cell_type": "code",
   "execution_count": null,
   "id": "b528f430",
   "metadata": {},
   "outputs": [],
   "source": [
    "def blueprint(text=\"sum\", start=0, end=10):\n",
    "    print (\"success\")\n",
    "  \n"
   ]
  },
  {
   "cell_type": "code",
   "execution_count": 36,
   "id": "a226a7f6",
   "metadata": {},
   "outputs": [
    {
     "name": "stdout",
     "output_type": "stream",
     "text": [
      "6\n"
     ]
    }
   ],
   "source": [
    "def sum_double_numbers (start, end, step=2):\n",
    "    r = 0 \n",
    "    for i in range(start, end, step):\n",
    "        r += i * 2\n",
    "    return r\n",
    "\n",
    "print (sum_double_numbers (1,3,1))"
   ]
  },
  {
   "cell_type": "code",
   "execution_count": 115,
   "id": "25b1ea89",
   "metadata": {},
   "outputs": [
    {
     "name": "stdout",
     "output_type": "stream",
     "text": [
      "-1\n"
     ]
    }
   ],
   "source": [
    "def f(x): \n",
    "    if x == 1: \n",
    "        return 1\n",
    "    elif x < 1: \n",
    "        return -1\n",
    "    else: \n",
    "        return x * f(x-2)\n",
    "\n",
    "print (f(-1))\n"
   ]
  },
  {
   "cell_type": "code",
   "execution_count": 8,
   "id": "600eddd3",
   "metadata": {},
   "outputs": [
    {
     "data": {
      "text/plain": [
       "[False, False, True, False, False, False, False]"
      ]
     },
     "execution_count": 8,
     "metadata": {},
     "output_type": "execute_result"
    }
   ],
   "source": [
    "list(map(lambda x: x==2, [0,1,2,3,4,5,6]))"
   ]
  },
  {
   "cell_type": "code",
   "execution_count": 28,
   "id": "2754cf4e",
   "metadata": {},
   "outputs": [
    {
     "data": {
      "text/plain": [
       "[1, 2, 2, 3, 3, 4]"
      ]
     },
     "execution_count": 28,
     "metadata": {},
     "output_type": "execute_result"
    }
   ],
   "source": [
    "a = [1,2,3,4,2,3]\n",
    "sorted(a)"
   ]
  },
  {
   "cell_type": "code",
   "execution_count": 27,
   "id": "14535dbc",
   "metadata": {},
   "outputs": [
    {
     "name": "stdout",
     "output_type": "stream",
     "text": [
      "Help on built-in function sorted in module builtins:\n",
      "\n",
      "sorted(iterable, /, *, key=None, reverse=False)\n",
      "    Return a new list containing all items from the iterable in ascending order.\n",
      "    \n",
      "    A custom key function can be supplied to customize the sort order, and the\n",
      "    reverse flag can be set to request the result in descending order.\n",
      "\n"
     ]
    }
   ],
   "source": [
    "help(sorted)"
   ]
  },
  {
   "cell_type": "code",
   "execution_count": 29,
   "id": "6d3bacdc",
   "metadata": {},
   "outputs": [
    {
     "data": {
      "text/plain": [
       "25"
      ]
     },
     "execution_count": 29,
     "metadata": {},
     "output_type": "execute_result"
    }
   ],
   "source": [
    "f = lambda x : x**2\n",
    "f(5)"
   ]
  },
  {
   "cell_type": "code",
   "execution_count": 86,
   "id": "7029fb9b",
   "metadata": {},
   "outputs": [
    {
     "ename": "TypeError",
     "evalue": "str.join() takes no keyword arguments",
     "output_type": "error",
     "traceback": [
      "\u001b[0;31m---------------------------------------------------------------------------\u001b[0m",
      "\u001b[0;31mTypeError\u001b[0m                                 Traceback (most recent call last)",
      "\u001b[1;32m/Users/ericbangerter/Documents/Universität /5. Semester/CS/Untitled.ipynb Cell 27\u001b[0m line \u001b[0;36m6\n\u001b[1;32m      <a href='vscode-notebook-cell:/Users/ericbangerter/Documents/Universit%C3%A4t%20/5.%20Semester/CS/Untitled.ipynb#X35sZmlsZQ%3D%3D?line=3'>4</a>\u001b[0m     sorted_numbers \u001b[39m=\u001b[39m \u001b[39m\"\u001b[39m\u001b[39m\"\u001b[39m\u001b[39m.\u001b[39mjoin(\u001b[39msorted\u001b[39m(\u001b[39mstr\u001b[39m(number)), reverse\u001b[39m=\u001b[39m\u001b[39mTrue\u001b[39;00m)\n\u001b[1;32m      <a href='vscode-notebook-cell:/Users/ericbangerter/Documents/Universit%C3%A4t%20/5.%20Semester/CS/Untitled.ipynb#X35sZmlsZQ%3D%3D?line=4'>5</a>\u001b[0m     \u001b[39mreturn\u001b[39;00m sorted_numbers\n\u001b[0;32m----> <a href='vscode-notebook-cell:/Users/ericbangerter/Documents/Universit%C3%A4t%20/5.%20Semester/CS/Untitled.ipynb#X35sZmlsZQ%3D%3D?line=5'>6</a>\u001b[0m \u001b[39mprint\u001b[39m (sort_numbers_by_digit(to_sort))\n",
      "\u001b[1;32m/Users/ericbangerter/Documents/Universität /5. Semester/CS/Untitled.ipynb Cell 27\u001b[0m line \u001b[0;36m4\n\u001b[1;32m      <a href='vscode-notebook-cell:/Users/ericbangerter/Documents/Universit%C3%A4t%20/5.%20Semester/CS/Untitled.ipynb#X35sZmlsZQ%3D%3D?line=1'>2</a>\u001b[0m \u001b[39mdef\u001b[39;00m \u001b[39msort_numbers_by_digit\u001b[39m (number):\n\u001b[1;32m      <a href='vscode-notebook-cell:/Users/ericbangerter/Documents/Universit%C3%A4t%20/5.%20Semester/CS/Untitled.ipynb#X35sZmlsZQ%3D%3D?line=2'>3</a>\u001b[0m     string_number \u001b[39m=\u001b[39m \u001b[39mstr\u001b[39m(number)\n\u001b[0;32m----> <a href='vscode-notebook-cell:/Users/ericbangerter/Documents/Universit%C3%A4t%20/5.%20Semester/CS/Untitled.ipynb#X35sZmlsZQ%3D%3D?line=3'>4</a>\u001b[0m     sorted_numbers \u001b[39m=\u001b[39m \u001b[39m\"\u001b[39;49m\u001b[39m\"\u001b[39;49m\u001b[39m.\u001b[39;49mjoin(\u001b[39msorted\u001b[39;49m(\u001b[39mstr\u001b[39;49m(number)), reverse\u001b[39m=\u001b[39;49m\u001b[39mTrue\u001b[39;49;00m)\n\u001b[1;32m      <a href='vscode-notebook-cell:/Users/ericbangerter/Documents/Universit%C3%A4t%20/5.%20Semester/CS/Untitled.ipynb#X35sZmlsZQ%3D%3D?line=4'>5</a>\u001b[0m     \u001b[39mreturn\u001b[39;00m sorted_numbers\n",
      "\u001b[0;31mTypeError\u001b[0m: str.join() takes no keyword arguments"
     ]
    }
   ],
   "source": [
    "to_sort = [1, 10, 23, 33, 42, 100, 48279]\n",
    "def sort_numbers_by_digit (number):\n",
    "    string_number = str(number)\n",
    "    sorted_numbers = \"\".join(sorted(str(number)), reverse=True)\n",
    "    return sorted_numbers\n",
    "print (sort_numbers_by_digit(to_sort))\n"
   ]
  },
  {
   "cell_type": "code",
   "execution_count": 95,
   "id": "4a1e1d59",
   "metadata": {},
   "outputs": [
    {
     "name": "stdout",
     "output_type": "stream",
     "text": [
      "54322\n"
     ]
    }
   ],
   "source": [
    "to_sort = [1, 10, 23, 33, 42, 100, 48279]\n",
    "# Add your code here\n",
    "\n",
    "def sort_numbers_by_digit (number):\n",
    "    sorted_number_string = \"\".join(sorted(str(number))[::-1])\n",
    "    return sorted_number_string\n",
    "\n",
    "print (sort_numbers_by_digit(25234))"
   ]
  },
  {
   "cell_type": "code",
   "execution_count": 94,
   "id": "85ad6e8f",
   "metadata": {},
   "outputs": [
    {
     "name": "stdout",
     "output_type": "stream",
     "text": [
      "5554332\n"
     ]
    }
   ],
   "source": [
    "def sort_numbers_by_digit(number):\n",
    "    string_number = str(number)\n",
    "    sorted_string_number = sorted(string_number, reverse=True)\n",
    "    result = int(\"\".join(sorted_string_number))\n",
    "    return result \n",
    "\n",
    "print (sort_numbers_by_digit(5345325))"
   ]
  },
  {
   "cell_type": "code",
   "execution_count": 96,
   "id": "b5259cad",
   "metadata": {},
   "outputs": [
    {
     "name": "stdout",
     "output_type": "stream",
     "text": [
      "['42', '631']\n"
     ]
    }
   ],
   "source": [
    "def sort_numbers_by_digit(number):\n",
    "    # Convert the number to a string to work with its individual digits\n",
    "    num_str = str(number)\n",
    "    \n",
    "    # Sort the digits in descending order\n",
    "    sorted_digits = sorted(num_str, reverse=True)\n",
    "    \n",
    "    # Join the sorted digits back into a single string\n",
    "    sorted_number = ''.join(sorted_digits)\n",
    "    \n",
    "    return sorted_number\n",
    "\n",
    "# Example usage:\n",
    "to_sort = [42, 613]\n",
    "\n",
    "# Use map() to apply the function to each element in the list\n",
    "sorted_list = list(map(sort_numbers_by_digit, to_sort))\n",
    "\n",
    "print(sorted_list)"
   ]
  },
  {
   "cell_type": "code",
   "execution_count": 110,
   "id": "ba4ad7d7",
   "metadata": {},
   "outputs": [
    {
     "name": "stdout",
     "output_type": "stream",
     "text": [
      "['43', '542', '5543', '32', '543', '643']\n"
     ]
    }
   ],
   "source": [
    "def sort_numbers_by_digit (number):\n",
    "    return \"\".join(sorted(str(number), reverse=True))\n",
    "\n",
    "to_sort = ([34,524,5345,23,543,463])\n",
    "sorted_list = list(map(sort_numbers_by_digit, to_sort))\n",
    "\n",
    "print (sorted_list)"
   ]
  },
  {
   "cell_type": "code",
   "execution_count": 112,
   "id": "9ba8ca10",
   "metadata": {},
   "outputs": [
    {
     "name": "stdout",
     "output_type": "stream",
     "text": [
      "['43', '542', '5543', '32', '543', '643']\n"
     ]
    }
   ],
   "source": [
    "sorted_list = list(map(lambda number : \"\".join(sorted(str(number), reverse=True)),to_sort))\n",
    "print (sorted_list)"
   ]
  },
  {
   "cell_type": "code",
   "execution_count": 1,
   "id": "eaf24044",
   "metadata": {},
   "outputs": [
    {
     "name": "stdout",
     "output_type": "stream",
     "text": [
      "655\n"
     ]
    }
   ],
   "source": [
    "def sort_numbers_by_digit (number):\n",
    "    return \"\".join(sorted(str(number), reverse=True))\n",
    "\n",
    "print (sort_numbers_by_digit(565))"
   ]
  },
  {
   "cell_type": "code",
   "execution_count": 2,
   "id": "e55c0c5d",
   "metadata": {},
   "outputs": [
    {
     "name": "stdout",
     "output_type": "stream",
     "text": [
      "56\n"
     ]
    }
   ],
   "source": [
    "def sort_numbers (number):\n",
    "    return \"\".join(sorted(str(number)[::-1]))\n",
    "\n",
    "print (sort_numbers(65))"
   ]
  },
  {
   "cell_type": "code",
   "execution_count": null,
   "id": "9e71c155",
   "metadata": {},
   "outputs": [],
   "source": []
  }
 ],
 "metadata": {
  "kernelspec": {
   "display_name": "Python 3 (ipykernel)",
   "language": "python",
   "name": "python3"
  },
  "language_info": {
   "codemirror_mode": {
    "name": "ipython",
    "version": 3
   },
   "file_extension": ".py",
   "mimetype": "text/x-python",
   "name": "python",
   "nbconvert_exporter": "python",
   "pygments_lexer": "ipython3",
   "version": "3.9.6"
  }
 },
 "nbformat": 4,
 "nbformat_minor": 5
}
